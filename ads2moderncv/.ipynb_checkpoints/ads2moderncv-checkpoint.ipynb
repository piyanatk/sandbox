{
 "cells": [
  {
   "cell_type": "code",
   "execution_count": 1,
   "metadata": {},
   "outputs": [],
   "source": [
    "import re\n",
    "\n",
    "import xmltodict"
   ]
  },
  {
   "cell_type": "code",
   "execution_count": 2,
   "metadata": {},
   "outputs": [],
   "source": [
    "with open('./export-refxml.xml') as fd:\n",
    "    doc = xmltodict.parse(fd.read())"
   ]
  },
  {
   "cell_type": "code",
   "execution_count": 3,
   "metadata": {},
   "outputs": [
    {
     "data": {
      "text/plain": [
       "odict_keys(['@retrieved', '@selected', '@start', '@xmlns', '@xmlns:xsi', '@xsi:schemaLocation', 'record'])"
      ]
     },
     "execution_count": 3,
     "metadata": {},
     "output_type": "execute_result"
    }
   ],
   "source": [
    "records = doc['records']\n",
    "records.keys()"
   ]
  },
  {
   "cell_type": "code",
   "execution_count": 4,
   "metadata": {},
   "outputs": [
    {
     "name": "stdout",
     "output_type": "stream",
     "text": [
      "<class 'list'>\n",
      "odict_keys(['bibcode', 'title', 'author', 'journal', 'pubdate', 'link', 'url', 'DOI', 'eprintid'])\n"
     ]
    }
   ],
   "source": [
    "entries = records['record']\n",
    "print(type(entries))\n",
    "print(entries[0].keys())"
   ]
  },
  {
   "cell_type": "markdown",
   "metadata": {},
   "source": [
    "## Formatting"
   ]
  },
  {
   "cell_type": "markdown",
   "metadata": {},
   "source": [
    "### Title"
   ]
  },
  {
   "cell_type": "code",
   "execution_count": 5,
   "metadata": {},
   "outputs": [
    {
     "name": "stdout",
     "output_type": "stream",
     "text": [
      "Understanding the HERA Phase I receiver system with simulations and its impact on the detectability of the EoR delay power spectrum\n"
     ]
    }
   ],
   "source": [
    "title = entries[0]['title']\n",
    "print(title)"
   ]
  },
  {
   "cell_type": "markdown",
   "metadata": {},
   "source": [
    "### Name"
   ]
  },
  {
   "cell_type": "code",
   "execution_count": 6,
   "metadata": {},
   "outputs": [],
   "source": [
    "def get_lastname_initials(authorlist):\n",
    "    lastname_initials = []\n",
    "    for name in authorlist:\n",
    "        l, fmi = name.split(', ', 1)\n",
    "        fmi_split = fmi.split(' ', 1)\n",
    "        try:\n",
    "            f, mi = fmi.split(' ', 1)\n",
    "        except ValueError:\n",
    "            f = fmi\n",
    "            mi = ''\n",
    "        fi = f[0].upper() + '.'\n",
    "        lastname_initials.append((l + ', ' + fi + ' ' + mi).strip())\n",
    "    return lastname_initials"
   ]
  },
  {
   "cell_type": "code",
   "execution_count": 7,
   "metadata": {},
   "outputs": [],
   "source": [
    "def parse_authorlist(authorlist, mode=0, n_authors=10, myname='Lastname, F. M.'):\n",
    "    \"\"\"\n",
    "    authorlist: list\n",
    "        List of strings of names in \"Lastname, Firstname M.\" format.\n",
    "    mode: {0, 1, 2, 3} or {'first_author_only', 'print_n_author', 'print_to_myname', 'print_all'}\n",
    "        0: 'first_author_only'\n",
    "        1: 'print_n_author'\n",
    "        2: 'print_to_myname'\n",
    "        3: 'print_all'\n",
    "        Other values will 'print_all'\n",
    "    n_author: int, optional\n",
    "        Number of authors to print to for 'print_n_author' mode.\n",
    "    myname: str, optional\n",
    "        Your name in \"Lastname, F. M.\" format. \n",
    "        Requied if `mode=2`.\n",
    "    \"\"\"\n",
    "    authorlist_li = get_lastname_initials(authorlist)\n",
    "    \n",
    "    # First author; et al., [n authors]\n",
    "    if (mode == 0 or mode == 'first_author_only'):  \n",
    "        authorlist_str = '{:s}; et al., [{:d} authors]'.format(\n",
    "            authorlist_li[0], len(authorlist_li) - 1\n",
    "        )\n",
    "    # First author; second author; ...; nth author; et al., [n authors]\n",
    "    elif (mode == 1 or mode == 'print_n_authors'):\n",
    "        authorlist_str = '{:s}; et al., [{:d} authors]'.format(\n",
    "            '; '.join(authorlist_li[:n_authors]), len(authorlist_li) - n_authors\n",
    "        )\n",
    "    # First author; second; ...; myname; et al., [n authors]\n",
    "    elif (mode == 2 or mode == 'print_to_myname'):\n",
    "        try:\n",
    "            mypos = authorlist_li.index(myname)\n",
    "            authorlist_str = '{:s}; et al., [{:d} authors]'.format(\n",
    "                '; '.join(authorlist_li[:mypos+1]), len(authorlist_li) - mypos\n",
    "            )\n",
    "        except ValueError:\n",
    "            raise ValueError(\"'{:s}' is not in the author list\".format(myname))\n",
    "    # Print all names\n",
    "    else:\n",
    "        authorlist_str = '; '.join(authorlist_li)\n",
    "    return authorlist_str"
   ]
  },
  {
   "cell_type": "code",
   "execution_count": 8,
   "metadata": {},
   "outputs": [
    {
     "data": {
      "text/plain": [
       "'Fagnoni, N.; de Lera Acedo, E.; DeBoer, D. R.; Abdurashidova, Z.; Aguirre, J. E.; Alexander, P.; Ali, Z. S.; Balfour, Y.; Beardsley, A. P.; et al., [62 authors]'"
      ]
     },
     "execution_count": 8,
     "metadata": {},
     "output_type": "execute_result"
    }
   ],
   "source": [
    "parse_authorlist(entries[0]['author'], mode=2, n_authors=5, myname='Beardsley, A. P.')"
   ]
  },
  {
   "cell_type": "markdown",
   "metadata": {},
   "source": [
    "### Year"
   ]
  },
  {
   "cell_type": "code",
   "execution_count": 9,
   "metadata": {},
   "outputs": [],
   "source": [
    "def parse_year(pubdate):\n",
    "    return pubdate.split()[-1]"
   ]
  },
  {
   "cell_type": "code",
   "execution_count": 10,
   "metadata": {},
   "outputs": [
    {
     "data": {
      "text/plain": [
       "'2021'"
      ]
     },
     "execution_count": 10,
     "metadata": {},
     "output_type": "execute_result"
    }
   ],
   "source": [
    "parse_year(entries[0]['pubdate'])"
   ]
  },
  {
   "cell_type": "markdown",
   "metadata": {},
   "source": [
    "### Journal"
   ]
  },
  {
   "cell_type": "code",
   "execution_count": 11,
   "metadata": {},
   "outputs": [],
   "source": [
    "def parse_journal(journal):\n",
    "    # Use re to repalce unwanted words.\n",
    "    # See https://stackoverflow.com/a/6117124\n",
    "    rep = {'Volume': '', 'Vol.': '', 'vol.': '',\n",
    "           'Issue': '',\n",
    "           'article': '', 'id.': ''}\n",
    "    rep = dict((re.escape(k), v) for k, v in rep.items()) \n",
    "    pattern = re.compile(\"|\".join(rep.keys()))\n",
    "    journal = pattern.sub(lambda m: rep[re.escape(m.group(0))], journal)\n",
    "    # Strip out spaces\n",
    "    journal = [i.strip() for i in journal.split(',')]\n",
    "    if len(journal) >= 3:\n",
    "        journal_str = ', '.join(journal[:3])\n",
    "    else:\n",
    "        journal_str = journal\n",
    "    return journal_str"
   ]
  },
  {
   "cell_type": "code",
   "execution_count": 12,
   "metadata": {},
   "outputs": [
    {
     "data": {
      "text/plain": [
       "'Monthly Notices of the Royal Astronomical Society, 500, 1'"
      ]
     },
     "execution_count": 12,
     "metadata": {},
     "output_type": "execute_result"
    }
   ],
   "source": [
    "parse_journal(entries[0]['journal'])"
   ]
  },
  {
   "cell_type": "markdown",
   "metadata": {},
   "source": [
    "### All together"
   ]
  },
  {
   "cell_type": "code",
   "execution_count": 23,
   "metadata": {},
   "outputs": [],
   "source": [
    "def parse_entries(entry, str_pattern='\\\\texttt{{{title}}}, {author}, {year}, {journal}',\n",
    "                  mode=0, n_authors=10, myname='Lastname, F. M.', bold_myname=True):\n",
    "    \"\"\"\n",
    "    authorlist: list\n",
    "        List of strings of names in \"Lastname, Firstname M.\" format.\n",
    "    mode: {0, 1, 2, 3} or {'first_author_only', 'print_n_author', 'print_to_myname', 'print_all'}\n",
    "        0: 'first_author_only'\n",
    "        1: 'print_n_author'\n",
    "        2: 'print_to_myname'\n",
    "        3: 'print_all'\n",
    "        Other values will 'print_all'\n",
    "    n_author: int, optional\n",
    "        Number of authors to print to for 'print_n_author' mode.\n",
    "    myname: str, optional\n",
    "        Your name in \"Lastname, F. M.\" format. \n",
    "        Requied if `mode=2` or if `bold_myname=True`.\n",
    "    bold_myname: {True, False}, optional\n",
    "        If true will bold `myname` with `\\textbf` if the `myname` exists.\n",
    "    \"\"\"\n",
    "    title = entry['title']\n",
    "    author = parse_authorlist(\n",
    "        entry['author'], mode=mode, n_authors=n_authors, myname=myname\n",
    "    )\n",
    "    if bold_myname:\n",
    "        author = author.replace(myname, '\\\\textbf{{{:s}}}'.format(myname))\n",
    "    year = parse_year(entry['pubdate'])\n",
    "    journal = parse_journal(entry['journal'])\n",
    "    return str_pattern.format(title=title, author=author, year=year, journal=journal)"
   ]
  },
  {
   "cell_type": "code",
   "execution_count": 38,
   "metadata": {},
   "outputs": [
    {
     "name": "stdout",
     "output_type": "stream",
     "text": [
      "\\cvitem{(21)}{\\textit{Understanding the HERA Phase I receiver system with simulations and its impact on the detectability of the EoR delay power spectrum}\\newline{}Fagnoni, N.; et al., [69 authors], 2021, Monthly Notices of the Royal Astronomical Society, 500, 1}\n",
      "\\cvitem{(20)}{\\textit{Redundant-baseline calibration of the hydrogen epoch of reionization array}\\newline{}Dillon, J. S.; et al., [78 authors], 2020, Monthly Notices of the Royal Astronomical Society, 499, 4}\n",
      "\\cvitem{(19)}{\\textit{Measuring HERA's Primary Beam in Situ: Methodology and First Results}\\newline{}Nunhokee, C. D.; et al., [66 authors], 2020, The Astrophysical Journal, 897, 1}\n",
      "\\cvitem{(18)}{\\textit{Detection of cosmic structures using the bispectrum phase. II. First results from application to cosmic reionization using the Hydrogen Epoch of Reionization Array}\\newline{}Thyagarajan, N.; et al., [71 authors], 2020, Physical Review D, 102, 2}\n",
      "\\cvitem{(17)}{\\textit{Imaging and Modeling Data from the Hydrogen Epoch of Reionization Array}\\newline{}Carilli, C. L.; et al., [71 authors], 2020, The Astrophysical Journal Supplement Series, 247, 2}\n",
      "\\cvitem{(16)}{\\textit{Absolute Calibration Strategies for the Hydrogen Epoch of Reionization Array and Their Impact on the 21 cm Power Spectrum}\\newline{}Kern, N. S.; et al., [71 authors], 2020, The Astrophysical Journal, 890, 2}\n",
      "\\cvitem{(15)}{\\textit{Mitigating Internal Instrument Coupling for 21 cm Cosmology. II. A Method Demonstration with the Hydrogen Epoch of Reionization Array}\\newline{}Kern, N. S.; et al., [66 authors], 2020, The Astrophysical Journal, 888, 2}\n",
      "\\cvitem{(14)}{\\textit{Optimizing sparse RFI prediction using deep learning}\\newline{}Kerrigan, J.; et al., [63 authors], 2019, Monthly Notices of the Royal Astronomical Society, 488, 2}\n",
      "\\cvitem{(13)}{\\textit{Comparing Redundant and Sky-model-based Interferometric Calibration: A First Look with Phase II of the MWA}\\newline{}Li, W.; et al., [55 authors], 2018, The Astrophysical Journal, 863, 2}\n",
      "\\cvitem{(12)}{\\textit{Erratum: Sensitivity of the Hydrogen Epoch of Reionization Array and its Build-out Stages to One-point Statistics from Redshifted 21 cm Observations}\\newline{}\textbf{Kittiwisit, P.}; et al., [4 authors], 2018, Monthly Notices of the Royal Astronomical Society, 477, 1}\n",
      "\\cvitem{(11)}{\\textit{Sensitivity of the Hydrogen Epoch of Reionization Array and its build-out stages to one-point statistics from redshifted 21 cm observations}\\newline{}\textbf{Kittiwisit, P.}; et al., [4 authors], 2018, Monthly Notices of the Royal Astronomical Society, 474, 4}\n",
      "\\cvitem{(10)}{\\textit{Spectral Energy Distribution and Radio Halo of NGC 253 at Low Radio Frequencies}\\newline{}Kapińska, A. D.; et al., [69 authors], 2017, The Astrophysical Journal, 838, 1}\n",
      "\\cvitem{(9)}{\\textit{Delay Spectrum with Phase-tracking Arrays: Extracting the HI Power Spectrum from the Epoch of Reionization}\\newline{}Paul, S.; et al., [53 authors], 2016, The Astrophysical Journal, 833, 2}\n",
      "\\cvitem{(8)}{\\textit{Parametrizing Epoch of Reionization foregrounds: a deep survey of low-frequency point-source spectra with the Murchison Widefield Array}\\newline{}Offringa, A. R.; et al., [40 authors], 2016, Monthly Notices of the Royal Astronomical Society, 458, 1}\n",
      "\\cvitem{(7)}{\\textit{The Importance of Wide-field Foreground Removal for 21 cm Cosmology: A Demonstration with Early MWA Epoch of Reionization Observations}\\newline{}Pober, J. C.; et al., [68 authors], 2016, The Astrophysical Journal, 819, 1}\n",
      "\\cvitem{(6)}{\\textit{Foreground Characterization for the Murchison Widefield Array Using the Jansky Very Large Array}\\newline{}Busch, M. P.; et al., [3 authors], 2016, American Astronomical Society, AAS Meeting #227, 140.07}\n",
      "\\cvitem{(5)}{\\textit{Confirmation of Wide-field Signatures in Redshifted 21 cm Power Spectra}\\newline{}Thyagarajan, N.; et al., [54 authors], 2015, The Astrophysical Journal Letters, 807, 2}\n",
      "\\cvitem{(4)}{\\textit{Empirical covariance modeling for 21 cm power spectrum estimation: A method demonstration and new limits from early Murchison Widefield Array 128-tile data}\\newline{}Dillon, J. S.; et al., [54 authors], 2015, Physical Review D, 91, 12}\n",
      "\\cvitem{(3)}{\\textit{Foregrounds in Wide-field Redshifted 21 cm Power Spectra}\\newline{}Thyagarajan, N.; et al., [63 authors], 2015, The Astrophysical Journal, 804, 1}\n",
      "\\cvitem{(2)}{\\textit{The Low-Frequency Environment of the Murchison Widefield Array: Radio-Frequency Interference Analysis and Mitigation}\\newline{}Offringa, A. R.; et al., [64 authors], 2015, Publications of the Astronomical Society of Australia, 32, e008 13 pp.}\n",
      "\\cvitem{(1)}{\\textit{Search for New Physics in High p<SUB>T</SUB> Like-Sign Dilepton Events at CDF II}\\newline{}Aaltonen, T.; et al., [513 authors], 2011, Physical Review Letters, 107, 18}\n"
     ]
    }
   ],
   "source": [
    "str_pattern='{{\\\\textit{{{title}}}\\\\newline{{}}{author}, {year}, {journal}}}'\n",
    "entries_str = []\n",
    "n_entries = len(entries)\n",
    "for i in range(n_entries):\n",
    "    s = parse_entries(\n",
    "        entries[i], str_pattern=str_pattern, \n",
    "        mode=0, myname='Kittiwisit, P.', bold_myname=True\n",
    "    )\n",
    "    s = '\\\\cvitem{{({:d})}}'.format(n_entries - i) + s\n",
    "    print(s)\n",
    "    entries_str.append(s)"
   ]
  },
  {
   "cell_type": "code",
   "execution_count": 39,
   "metadata": {},
   "outputs": [
    {
     "name": "stdout",
     "output_type": "stream",
     "text": [
      "\\cvitem{(21)}{\\textit{Understanding the HERA Phase I receiver system with simulations and its impact on the detectability of the EoR delay power spectrum}\\newline{}Fagnoni, N.; et al., [69 authors], 2021, Monthly Notices of the Royal Astronomical Society, 500, 1}\n",
      "\\cvitem{(20)}{\\textit{Redundant-baseline calibration of the hydrogen epoch of reionization array}\\newline{}Dillon, J. S.; et al., [78 authors], 2020, Monthly Notices of the Royal Astronomical Society, 499, 4}\n",
      "\\cvitem{(19)}{\\textit{Measuring HERA's Primary Beam in Situ: Methodology and First Results}\\newline{}Nunhokee, C. D.; et al., [66 authors], 2020, The Astrophysical Journal, 897, 1}\n",
      "\\cvitem{(18)}{\\textit{Detection of cosmic structures using the bispectrum phase. II. First results from application to cosmic reionization using the Hydrogen Epoch of Reionization Array}\\newline{}Thyagarajan, N.; et al., [71 authors], 2020, Physical Review D, 102, 2}\n",
      "\\cvitem{(17)}{\\textit{Imaging and Modeling Data from the Hydrogen Epoch of Reionization Array}\\newline{}Carilli, C. L.; et al., [71 authors], 2020, The Astrophysical Journal Supplement Series, 247, 2}\n",
      "\\cvitem{(16)}{\\textit{Absolute Calibration Strategies for the Hydrogen Epoch of Reionization Array and Their Impact on the 21 cm Power Spectrum}\\newline{}Kern, N. S.; et al., [71 authors], 2020, The Astrophysical Journal, 890, 2}\n",
      "\\cvitem{(15)}{\\textit{Mitigating Internal Instrument Coupling for 21 cm Cosmology. II. A Method Demonstration with the Hydrogen Epoch of Reionization Array}\\newline{}Kern, N. S.; et al., [66 authors], 2020, The Astrophysical Journal, 888, 2}\n",
      "\\cvitem{(14)}{\\textit{Optimizing sparse RFI prediction using deep learning}\\newline{}Kerrigan, J.; et al., [63 authors], 2019, Monthly Notices of the Royal Astronomical Society, 488, 2}\n",
      "\\cvitem{(13)}{\\textit{Comparing Redundant and Sky-model-based Interferometric Calibration: A First Look with Phase II of the MWA}\\newline{}Li, W.; et al., [55 authors], 2018, The Astrophysical Journal, 863, 2}\n",
      "\\cvitem{(12)}{\\textit{Erratum: Sensitivity of the Hydrogen Epoch of Reionization Array and its Build-out Stages to One-point Statistics from Redshifted 21 cm Observations}\\newline{}\textbf{Kittiwisit, P.}; et al., [4 authors], 2018, Monthly Notices of the Royal Astronomical Society, 477, 1}\n",
      "\\cvitem{(11)}{\\textit{Sensitivity of the Hydrogen Epoch of Reionization Array and its build-out stages to one-point statistics from redshifted 21 cm observations}\\newline{}\textbf{Kittiwisit, P.}; et al., [4 authors], 2018, Monthly Notices of the Royal Astronomical Society, 474, 4}\n",
      "\\cvitem{(10)}{\\textit{Spectral Energy Distribution and Radio Halo of NGC 253 at Low Radio Frequencies}\\newline{}Kapińska, A. D.; et al., [69 authors], 2017, The Astrophysical Journal, 838, 1}\n",
      "\\cvitem{(9)}{\\textit{Delay Spectrum with Phase-tracking Arrays: Extracting the HI Power Spectrum from the Epoch of Reionization}\\newline{}Paul, S.; et al., [53 authors], 2016, The Astrophysical Journal, 833, 2}\n",
      "\\cvitem{(8)}{\\textit{Parametrizing Epoch of Reionization foregrounds: a deep survey of low-frequency point-source spectra with the Murchison Widefield Array}\\newline{}Offringa, A. R.; et al., [40 authors], 2016, Monthly Notices of the Royal Astronomical Society, 458, 1}\n",
      "\\cvitem{(7)}{\\textit{The Importance of Wide-field Foreground Removal for 21 cm Cosmology: A Demonstration with Early MWA Epoch of Reionization Observations}\\newline{}Pober, J. C.; et al., [68 authors], 2016, The Astrophysical Journal, 819, 1}\n",
      "\\cvitem{(6)}{\\textit{Foreground Characterization for the Murchison Widefield Array Using the Jansky Very Large Array}\\newline{}Busch, M. P.; et al., [3 authors], 2016, American Astronomical Society, AAS Meeting #227, 140.07}\n",
      "\\cvitem{(5)}{\\textit{Confirmation of Wide-field Signatures in Redshifted 21 cm Power Spectra}\\newline{}Thyagarajan, N.; et al., [54 authors], 2015, The Astrophysical Journal Letters, 807, 2}\n",
      "\\cvitem{(4)}{\\textit{Empirical covariance modeling for 21 cm power spectrum estimation: A method demonstration and new limits from early Murchison Widefield Array 128-tile data}\\newline{}Dillon, J. S.; et al., [54 authors], 2015, Physical Review D, 91, 12}\n",
      "\\cvitem{(3)}{\\textit{Foregrounds in Wide-field Redshifted 21 cm Power Spectra}\\newline{}Thyagarajan, N.; et al., [63 authors], 2015, The Astrophysical Journal, 804, 1}\n",
      "\\cvitem{(2)}{\\textit{The Low-Frequency Environment of the Murchison Widefield Array: Radio-Frequency Interference Analysis and Mitigation}\\newline{}Offringa, A. R.; et al., [64 authors], 2015, Publications of the Astronomical Society of Australia, 32, e008 13 pp.}\n",
      "\\cvitem{(1)}{\\textit{Search for New Physics in High p<SUB>T</SUB> Like-Sign Dilepton Events at CDF II}\\newline{}Aaltonen, T.; et al., [513 authors], 2011, Physical Review Letters, 107, 18}\n"
     ]
    }
   ],
   "source": [
    "for i in entries_str:\n",
    "    print(i)"
   ]
  },
  {
   "cell_type": "code",
   "execution_count": 28,
   "metadata": {},
   "outputs": [
    {
     "data": {
      "text/plain": [
       "'{{\\\\texttt{{{title}}}, {author}, {year}, {journal}}}'"
      ]
     },
     "execution_count": 28,
     "metadata": {},
     "output_type": "execute_result"
    }
   ],
   "source": [
    "'{{\\\\texttt{{{title}}}, {author}, {year}, {journal}}}'"
   ]
  },
  {
   "cell_type": "code",
   "execution_count": null,
   "metadata": {},
   "outputs": [],
   "source": []
  }
 ],
 "metadata": {
  "kernelspec": {
   "display_name": "Python 3",
   "language": "python",
   "name": "python3"
  },
  "language_info": {
   "codemirror_mode": {
    "name": "ipython",
    "version": 3
   },
   "file_extension": ".py",
   "mimetype": "text/x-python",
   "name": "python",
   "nbconvert_exporter": "python",
   "pygments_lexer": "ipython3",
   "version": "3.7.8"
  }
 },
 "nbformat": 4,
 "nbformat_minor": 4
}
